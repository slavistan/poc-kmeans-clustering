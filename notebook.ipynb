{
 "cells": [
  {
   "cell_type": "markdown",
   "metadata": {},
   "source": [
    "# 2D K-Means Clustering using Gradient Descent"
   ]
  },
  {
   "cell_type": "code",
   "execution_count": null,
   "metadata": {},
   "outputs": [],
   "source": [
    "%load_ext autoreload\n",
    "%autoreload 2\n",
    "import pandas as pd\n",
    "import torch\n",
    "from matplotlib.colors import to_hex\n",
    "from matplotlib import colormaps\n",
    "from plotnine import *\n",
    "from plotnine.animation import PlotnineAnimation\n",
    "from IPython.core.display import HTML\n",
    "from PIL import Image\n",
    "from torchvision.transforms import functional as F\n",
    "\n",
    "from src import *"
   ]
  },
  {
   "cell_type": "code",
   "execution_count": null,
   "metadata": {},
   "outputs": [],
   "source": [
    "def make_plot(samples: torch.Tensor, centroids: torch.Tensor):\n",
    "    \"\"\"\n",
    "    Plots a set of samples and centroids in a 2D scatter plot.\n",
    "    \"\"\"\n",
    "\n",
    "    samples = samples.data\n",
    "    centroids = centroids.data\n",
    "    distances = torch.cdist(samples, centroids)\n",
    "    closest_centroids = torch.argmin(distances, dim=1)\n",
    "\n",
    "    # Set up plot data, concatenating sample and centroids coordinates. We\n",
    "    # assign different colors and sizes to the centroids. The samples will be\n",
    "    # colored according to the centroids they belong to.\n",
    "    data = {\n",
    "        \"x\": samples[:, 0].tolist() + [centroids[i, 0].item() for i in range(len(centroids))],\n",
    "        \"y\": samples[:, 1].tolist() + [centroids[i, 1].item() for i in range(len(centroids))],\n",
    "        \"size\": [0.5] * samples.shape[0] + [2] * len(centroids),\n",
    "        \"color\": [f\"Centroid {closest_centroids[i]+1}\" for i in range(len(samples))] + \\\n",
    "            [f\"Centroid {i+1}\" for i in range(len(centroids))],\n",
    "    }\n",
    "\n",
    "    # Generate a color map with a unique color for each centroid.\n",
    "    color_map = colormaps.get_cmap(\"rainbow\")\n",
    "    colors = [to_hex(color_map(i)) for i in torch.linspace(0, 1, len(centroids))]\n",
    "    color_dict = {f\"Centroid {i+1}\": colors[i] for i in range(len(centroids))}\n",
    "\n",
    "    df = pd.DataFrame.from_dict(data)\n",
    "    plot = ggplot(df) + \\\n",
    "        geom_point(aes(x=\"x\", y=\"y\", fill=\"color\", size=\"size\"), show_legend=False) + \\\n",
    "        scale_fill_manual(color_dict)\n",
    "    return plot\n",
    "\n",
    "\n",
    "# Hyperparameters\n",
    "learning_rate = 0.0002\n",
    "num_training_iterations = 100\n",
    "num_training_samples = 1000\n",
    "num_centroids = 4\n",
    "\n",
    "# Create training data from a superposition of a normal and a uniform distribution.\n",
    "samples = torch.cat([\n",
    "    torch.randn((num_training_samples // 2, 2), requires_grad=False) * 0.5 - 0.5,\n",
    "    torch.rand((num_training_samples - num_training_samples // 2, 2), requires_grad=False),\n",
    "])\n",
    "\n",
    "# Initialize centroids. Make sure they're not scattered too far apart, as this\n",
    "# simple implementation can spawn zombie centroids which don't move during the\n",
    "# optimization process, if after initialization they don't have any samples\n",
    "# assigned to them. The loss function below only measures the sum of distances\n",
    "# of each centroids with respect to its own samples.\n",
    "centroids = (0.2 * torch.randn((num_centroids, 2))).requires_grad_()\n",
    "\n",
    "\n",
    "def step():\n",
    "    \"\"\"\n",
    "    Performs a single optimization step, returning a plot.\n",
    "    \"\"\"\n",
    "\n",
    "    global centroids\n",
    "    global learning_rate\n",
    "\n",
    "    distances = torch.cdist(samples, centroids)\n",
    "    centroid_idx = distances.argmin(dim=1)\n",
    "    loss = torch.sum(distances.gather(1, centroid_idx.unsqueeze(dim=1)).squeeze())\n",
    "    loss.backward()\n",
    "\n",
    "    with torch.no_grad():\n",
    "        centroids -= learning_rate * centroids.grad\n",
    "    centroids.grad.zero_()\n",
    "\n",
    "    plot = make_plot(samples, centroids)\n",
    "    return plot\n",
    "\n",
    "\n",
    "# Produce an animation.\n",
    "plots = [step() for _ in range(num_training_iterations)]\n",
    "ani = PlotnineAnimation(plots, interval=100, repeat_delay=500)\n",
    "HTML(ani.to_jshtml())"
   ]
  },
  {
   "cell_type": "markdown",
   "metadata": {},
   "source": [
    "# Image Compression using K-Means Clustering"
   ]
  },
  {
   "cell_type": "code",
   "execution_count": null,
   "metadata": {},
   "outputs": [],
   "source": [
    "img_pil = Image.open(\"doggy.jpg\")\n",
    "img_pil"
   ]
  },
  {
   "cell_type": "code",
   "execution_count": null,
   "metadata": {},
   "outputs": [],
   "source": [
    "# Run k-means clustering on the color space\n",
    "# and plot the resulting color palette. Notice that we're\n",
    "# getting mostly brown and yellowish colors.\n",
    "img = F.to_tensor(img_pil)\n",
    "centroids = kmeans_grad(img, 32, 128, 1e-6)\n",
    "plot_spectrum(centroids)"
   ]
  },
  {
   "cell_type": "code",
   "execution_count": null,
   "metadata": {},
   "outputs": [],
   "source": [
    "# Plot the compressed image.\n",
    "img_encoded = kmeans_encode(img, centroids)\n",
    "img_compressed = kmeans_decode(img_encoded, centroids)\n",
    "F.to_pil_image(img_compressed)"
   ]
  },
  {
   "cell_type": "code",
   "execution_count": null,
   "metadata": {},
   "outputs": [],
   "source": [
    "compression = (img_encoded.nelement() + centroids.nelement()) / img.nelement()\n",
    "print(f\"Compressed image to {compression*100:.2f}% of its original size.\")"
   ]
  }
 ],
 "metadata": {
  "kernelspec": {
   "display_name": "Python 3",
   "language": "python",
   "name": "python3"
  },
  "language_info": {
   "codemirror_mode": {
    "name": "ipython",
    "version": 3
   },
   "file_extension": ".py",
   "mimetype": "text/x-python",
   "name": "python",
   "nbconvert_exporter": "python",
   "pygments_lexer": "ipython3",
   "version": "3.11.3"
  }
 },
 "nbformat": 4,
 "nbformat_minor": 2
}
